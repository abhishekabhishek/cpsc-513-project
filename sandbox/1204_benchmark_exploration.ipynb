{
 "cells": [
  {
   "cell_type": "markdown",
   "metadata": {},
   "source": [
    "December 04, 2024\n",
    "\n",
    "Goal: Explore the benchmark circuits in `feynman/benchmarks/qasm` and determine their important properties"
   ]
  },
  {
   "cell_type": "code",
   "execution_count": 1,
   "metadata": {},
   "outputs": [
    {
     "name": "stdout",
     "output_type": "stream",
     "text": [
      "/home/abhishekabhishek/git/cpsc-513-project\n"
     ]
    }
   ],
   "source": [
    "cd .."
   ]
  },
  {
   "cell_type": "markdown",
   "metadata": {
    "vscode": {
     "languageId": "plaintext"
    }
   },
   "source": [
    "First, let's try to get all the files in the dir automatically using python"
   ]
  },
  {
   "cell_type": "code",
   "execution_count": 2,
   "metadata": {},
   "outputs": [
    {
     "name": "stdout",
     "output_type": "stream",
     "text": [
      "['../feynman/benchmarks/qasm/csla_mux_3.qasm', '../feynman/benchmarks/qasm/hwb10.qasm', '../feynman/benchmarks/qasm/barenco_tof_10.qasm', '../feynman/benchmarks/qasm/gf2^32_mult.qasm', '../feynman/benchmarks/qasm/gf2^10_mult.qasm', '../feynman/benchmarks/qasm/gf2^5_mult.qasm', '../feynman/benchmarks/qasm/grover_5.qasm', '../feynman/benchmarks/qasm/mod_mult_55.qasm', '../feynman/benchmarks/qasm/gf2^6_mult.qasm', '../feynman/benchmarks/qasm/tof_4.qasm', '../feynman/benchmarks/qasm/barenco_tof_4.qasm', '../feynman/benchmarks/qasm/ham15-med.qasm', '../feynman/benchmarks/qasm/ham15-high.qasm', '../feynman/benchmarks/qasm/tof_3.qasm', '../feynman/benchmarks/qasm/qcla_com_7.qasm', '../feynman/benchmarks/qasm/tof_10.qasm', '../feynman/benchmarks/qasm/hwb11.qasm', '../feynman/benchmarks/qasm/mod_red_21.qasm', '../feynman/benchmarks/qasm/tof_5.qasm', '../feynman/benchmarks/qasm/barenco_tof_5.qasm', '../feynman/benchmarks/qasm/gf2^8_mult.qasm', '../feynman/benchmarks/qasm/qcla_adder_10.qasm', '../feynman/benchmarks/qasm/vbe_adder_3.qasm', '../feynman/benchmarks/qasm/csum_mux_9.qasm', '../feynman/benchmarks/qasm/gf2^4_mult.qasm', '../feynman/benchmarks/qasm/qft_4.qasm', '../feynman/benchmarks/qasm/adder_8.qasm', '../feynman/benchmarks/qasm/mod_adder_1024.qasm', '../feynman/benchmarks/qasm/gf2^64_mult.qasm', '../feynman/benchmarks/qasm/gf2^7_mult.qasm', '../feynman/benchmarks/qasm/barenco_tof_3.qasm', '../feynman/benchmarks/qasm/qcla_mod_7.qasm', '../feynman/benchmarks/qasm/hwb6.qasm', '../feynman/benchmarks/qasm/gf2^16_mult.qasm', '../feynman/benchmarks/qasm/rc_adder_6.qasm', '../feynman/benchmarks/qasm/hwb8.qasm', '../feynman/benchmarks/qasm/hwb12.qasm', '../feynman/benchmarks/qasm/mod5_4.qasm', '../feynman/benchmarks/qasm/mod_adder_1048576.qasm', '../feynman/benchmarks/qasm/ham15-low.qasm', '../feynman/benchmarks/qasm/gf2^9_mult.qasm', '../feynman/benchmarks/qasm/gf2^128_mult.qasm', '../feynman/benchmarks/qasm/gf2^256_mult.qasm', '../feynman/benchmarks/qasm/cycle_17_3.qasm']\n"
     ]
    }
   ],
   "source": [
    "benchmark_dir_path = \"../feynman/benchmarks/qasm/\"\n",
    "\n",
    "import glob\n",
    "file_path_list = glob.glob(benchmark_dir_path + \"*.qasm\")\n",
    "print(file_path_list) "
   ]
  },
  {
   "cell_type": "code",
   "execution_count": 3,
   "metadata": {},
   "outputs": [
    {
     "data": {
      "text/plain": [
       "'../feynman/benchmarks/qasm/csla_mux_3.qasm'"
      ]
     },
     "execution_count": 3,
     "metadata": {},
     "output_type": "execute_result"
    }
   ],
   "source": [
    "path_0 = file_path_list[0]\n",
    "path_0"
   ]
  },
  {
   "cell_type": "code",
   "execution_count": 4,
   "metadata": {},
   "outputs": [
    {
     "data": {
      "text/plain": [
       "'la_mux_3.qasm'"
      ]
     },
     "execution_count": 4,
     "metadata": {},
     "output_type": "execute_result"
    }
   ],
   "source": [
    "path_0.lstrip(benchmark_dir_path)"
   ]
  },
  {
   "cell_type": "code",
   "execution_count": 5,
   "metadata": {},
   "outputs": [
    {
     "data": {
      "text/plain": [
       "'csla_mux_3'"
      ]
     },
     "execution_count": 5,
     "metadata": {},
     "output_type": "execute_result"
    }
   ],
   "source": [
    "path_0.replace(benchmark_dir_path, '', 1).replace('.qasm', '', 1)"
   ]
  },
  {
   "cell_type": "markdown",
   "metadata": {},
   "source": [
    "Ok. We can get the benchmark name using the method above. How can we collect the relevant metrics?"
   ]
  },
  {
   "cell_type": "code",
   "execution_count": 6,
   "metadata": {},
   "outputs": [],
   "source": [
    "from qiskit import QuantumCircuit\n",
    "circ_0 = QuantumCircuit.from_qasm_file(path_0)"
   ]
  },
  {
   "cell_type": "code",
   "execution_count": 7,
   "metadata": {},
   "outputs": [
    {
     "name": "stdout",
     "output_type": "stream",
     "text": [
      "15 0\n"
     ]
    }
   ],
   "source": [
    "print(circ_0.num_qubits, circ_0.num_ancillas)"
   ]
  },
  {
   "cell_type": "code",
   "execution_count": 8,
   "metadata": {},
   "outputs": [
    {
     "data": {
      "text/plain": [
       "OrderedDict([('h', 40), ('cx', 20), ('ccx', 10)])"
      ]
     },
     "execution_count": 8,
     "metadata": {},
     "output_type": "execute_result"
    }
   ],
   "source": [
    "circ_0.count_ops()"
   ]
  },
  {
   "cell_type": "code",
   "execution_count": 9,
   "metadata": {},
   "outputs": [
    {
     "data": {
      "text/plain": [
       "odict_keys(['h', 'cx', 'ccx'])"
      ]
     },
     "execution_count": 9,
     "metadata": {},
     "output_type": "execute_result"
    }
   ],
   "source": [
    "sum(circ_0.count_ops().values())\n",
    "circ_0.count_ops().keys()"
   ]
  },
  {
   "cell_type": "code",
   "execution_count": 10,
   "metadata": {},
   "outputs": [
    {
     "data": {
      "text/plain": [
       "'h_cx_ccx'"
      ]
     },
     "execution_count": 10,
     "metadata": {},
     "output_type": "execute_result"
    }
   ],
   "source": [
    "\"_\".join(list(circ_0.count_ops().keys()))"
   ]
  },
  {
   "cell_type": "code",
   "execution_count": 11,
   "metadata": {},
   "outputs": [
    {
     "data": {
      "text/plain": [
       "24"
      ]
     },
     "execution_count": 11,
     "metadata": {},
     "output_type": "execute_result"
    }
   ],
   "source": [
    "circ_0.depth()"
   ]
  },
  {
   "cell_type": "markdown",
   "metadata": {},
   "source": [
    "Ok, we now have everything we need to get the important metrics from the circuits. let's write the loop and build the dictionary."
   ]
  },
  {
   "cell_type": "code",
   "execution_count": 3,
   "metadata": {},
   "outputs": [
    {
     "data": {
      "text/plain": [
       "['../feynman/benchmarks/qasm/csla_mux_3.qasm',\n",
       " '../feynman/benchmarks/qasm/hwb10.qasm',\n",
       " '../feynman/benchmarks/qasm/barenco_tof_10.qasm',\n",
       " '../feynman/benchmarks/qasm/gf2^32_mult.qasm',\n",
       " '../feynman/benchmarks/qasm/gf2^10_mult.qasm',\n",
       " '../feynman/benchmarks/qasm/gf2^5_mult.qasm',\n",
       " '../feynman/benchmarks/qasm/grover_5.qasm',\n",
       " '../feynman/benchmarks/qasm/mod_mult_55.qasm',\n",
       " '../feynman/benchmarks/qasm/gf2^6_mult.qasm',\n",
       " '../feynman/benchmarks/qasm/tof_4.qasm',\n",
       " '../feynman/benchmarks/qasm/barenco_tof_4.qasm',\n",
       " '../feynman/benchmarks/qasm/ham15-med.qasm',\n",
       " '../feynman/benchmarks/qasm/ham15-high.qasm',\n",
       " '../feynman/benchmarks/qasm/tof_3.qasm',\n",
       " '../feynman/benchmarks/qasm/qcla_com_7.qasm',\n",
       " '../feynman/benchmarks/qasm/tof_10.qasm',\n",
       " '../feynman/benchmarks/qasm/hwb11.qasm',\n",
       " '../feynman/benchmarks/qasm/mod_red_21.qasm',\n",
       " '../feynman/benchmarks/qasm/tof_5.qasm',\n",
       " '../feynman/benchmarks/qasm/barenco_tof_5.qasm',\n",
       " '../feynman/benchmarks/qasm/gf2^8_mult.qasm',\n",
       " '../feynman/benchmarks/qasm/qcla_adder_10.qasm',\n",
       " '../feynman/benchmarks/qasm/vbe_adder_3.qasm',\n",
       " '../feynman/benchmarks/qasm/csum_mux_9.qasm',\n",
       " '../feynman/benchmarks/qasm/gf2^4_mult.qasm',\n",
       " '../feynman/benchmarks/qasm/qft_4.qasm',\n",
       " '../feynman/benchmarks/qasm/adder_8.qasm',\n",
       " '../feynman/benchmarks/qasm/mod_adder_1024.qasm',\n",
       " '../feynman/benchmarks/qasm/gf2^64_mult.qasm',\n",
       " '../feynman/benchmarks/qasm/gf2^7_mult.qasm',\n",
       " '../feynman/benchmarks/qasm/barenco_tof_3.qasm',\n",
       " '../feynman/benchmarks/qasm/qcla_mod_7.qasm',\n",
       " '../feynman/benchmarks/qasm/hwb6.qasm',\n",
       " '../feynman/benchmarks/qasm/gf2^16_mult.qasm',\n",
       " '../feynman/benchmarks/qasm/rc_adder_6.qasm',\n",
       " '../feynman/benchmarks/qasm/hwb8.qasm',\n",
       " '../feynman/benchmarks/qasm/hwb12.qasm',\n",
       " '../feynman/benchmarks/qasm/mod5_4.qasm',\n",
       " '../feynman/benchmarks/qasm/mod_adder_1048576.qasm',\n",
       " '../feynman/benchmarks/qasm/ham15-low.qasm',\n",
       " '../feynman/benchmarks/qasm/gf2^9_mult.qasm',\n",
       " '../feynman/benchmarks/qasm/gf2^128_mult.qasm',\n",
       " '../feynman/benchmarks/qasm/gf2^256_mult.qasm',\n",
       " '../feynman/benchmarks/qasm/cycle_17_3.qasm']"
      ]
     },
     "execution_count": 3,
     "metadata": {},
     "output_type": "execute_result"
    }
   ],
   "source": [
    "file_path_list"
   ]
  },
  {
   "cell_type": "code",
   "execution_count": 4,
   "metadata": {},
   "outputs": [
    {
     "data": {
      "text/plain": [
       "44"
      ]
     },
     "execution_count": 4,
     "metadata": {},
     "output_type": "execute_result"
    }
   ],
   "source": [
    "len(file_path_list)"
   ]
  },
  {
   "cell_type": "code",
   "execution_count": 13,
   "metadata": {},
   "outputs": [],
   "source": [
    "from keys import IBMQ_API\n",
    "from qiskit import QuantumCircuit, transpile\n",
    "from qiskit.qasm2 import QASM2ParseError\n",
    "from qiskit_ibm_runtime import QiskitRuntimeService\n",
    "\n",
    "service = QiskitRuntimeService(channel=\"ibm_quantum\", token=IBMQ_API, instance=\"ibm-q/open/main\")\n",
    "ibm_backend = service.backend(\"ibm_sherbrooke\")"
   ]
  },
  {
   "cell_type": "code",
   "execution_count": null,
   "metadata": {},
   "outputs": [
    {
     "ename": "CircuitTooWideForTarget",
     "evalue": "'Number of qubits (192) in circuit-3399 is greater than maximum (127) in the coupling_map'",
     "output_type": "error",
     "traceback": [
      "\u001b[0;31m---------------------------------------------------------------------------\u001b[0m",
      "\u001b[0;31mCircuitTooWideForTarget\u001b[0m                   Traceback (most recent call last)",
      "Cell \u001b[0;32mIn[14], line 35\u001b[0m\n\u001b[1;32m     31\u001b[0m circ_info_dict[\u001b[38;5;124m'\u001b[39m\u001b[38;5;124mn_ancilla_original\u001b[39m\u001b[38;5;124m'\u001b[39m]\u001b[38;5;241m.\u001b[39mappend(circ\u001b[38;5;241m.\u001b[39mnum_ancillas)\n\u001b[1;32m     33\u001b[0m \u001b[38;5;66;03m# transpile the circuit to the IBM backend (ibm_sherbrooke) and get the metrics from the\u001b[39;00m\n\u001b[1;32m     34\u001b[0m \u001b[38;5;66;03m# transpiled circuit\u001b[39;00m\n\u001b[0;32m---> 35\u001b[0m circ_hw \u001b[38;5;241m=\u001b[39m \u001b[43mtranspile\u001b[49m\u001b[43m(\u001b[49m\u001b[43mcirc\u001b[49m\u001b[43m,\u001b[49m\u001b[43m \u001b[49m\u001b[43mibm_backend\u001b[49m\u001b[43m)\u001b[49m\n\u001b[1;32m     37\u001b[0m circ_hw_op_dict \u001b[38;5;241m=\u001b[39m circ_hw\u001b[38;5;241m.\u001b[39mcount_ops()\n\u001b[1;32m     38\u001b[0m circ_info_dict[\u001b[38;5;124m'\u001b[39m\u001b[38;5;124mn_qubits_transpiled\u001b[39m\u001b[38;5;124m'\u001b[39m]\u001b[38;5;241m.\u001b[39mappend(circ_hw\u001b[38;5;241m.\u001b[39mnum_qubits)\n",
      "File \u001b[0;32m~/anaconda3/envs/cpsc-513/lib/python3.13/site-packages/qiskit/compiler/transpiler.py:361\u001b[0m, in \u001b[0;36mtranspile\u001b[0;34m(circuits, backend, basis_gates, inst_map, coupling_map, backend_properties, initial_layout, layout_method, routing_method, translation_method, scheduling_method, instruction_durations, dt, approximation_degree, timing_constraints, seed_transpiler, optimization_level, callback, output_name, unitary_synthesis_method, unitary_synthesis_plugin_config, target, hls_config, init_method, optimization_method, ignore_backend_supplied_default_methods, num_processes)\u001b[0m\n\u001b[1;32m    359\u001b[0m output_name \u001b[38;5;241m=\u001b[39m _parse_output_name(output_name, circuits)\n\u001b[1;32m    360\u001b[0m coupling_map \u001b[38;5;241m=\u001b[39m _parse_coupling_map(coupling_map)\n\u001b[0;32m--> 361\u001b[0m \u001b[43m_check_circuits_coupling_map\u001b[49m\u001b[43m(\u001b[49m\u001b[43mcircuits\u001b[49m\u001b[43m,\u001b[49m\u001b[43m \u001b[49m\u001b[43mcoupling_map\u001b[49m\u001b[43m,\u001b[49m\u001b[43m \u001b[49m\u001b[43mbackend\u001b[49m\u001b[43m)\u001b[49m\n\u001b[1;32m    363\u001b[0m \u001b[38;5;66;03m# Edge cases require using the old model (loose constraints) instead of building a target,\u001b[39;00m\n\u001b[1;32m    364\u001b[0m \u001b[38;5;66;03m# but we don't populate the passmanager config with loose constraints unless it's one of\u001b[39;00m\n\u001b[1;32m    365\u001b[0m \u001b[38;5;66;03m# the known edge cases to control the execution path.\u001b[39;00m\n\u001b[1;32m    366\u001b[0m pm \u001b[38;5;241m=\u001b[39m generate_preset_pass_manager(\n\u001b[1;32m    367\u001b[0m     optimization_level,\n\u001b[1;32m    368\u001b[0m     target\u001b[38;5;241m=\u001b[39mtarget,\n\u001b[0;32m   (...)\u001b[0m\n\u001b[1;32m    388\u001b[0m     dt\u001b[38;5;241m=\u001b[39mdt,\n\u001b[1;32m    389\u001b[0m )\n",
      "File \u001b[0;32m~/anaconda3/envs/cpsc-513/lib/python3.13/site-packages/qiskit/compiler/transpiler.py:415\u001b[0m, in \u001b[0;36m_check_circuits_coupling_map\u001b[0;34m(circuits, cmap, backend)\u001b[0m\n\u001b[1;32m    413\u001b[0m num_qubits \u001b[38;5;241m=\u001b[39m \u001b[38;5;28mlen\u001b[39m(circuit\u001b[38;5;241m.\u001b[39mqubits)\n\u001b[1;32m    414\u001b[0m \u001b[38;5;28;01mif\u001b[39;00m max_qubits \u001b[38;5;129;01mis\u001b[39;00m \u001b[38;5;129;01mnot\u001b[39;00m \u001b[38;5;28;01mNone\u001b[39;00m \u001b[38;5;129;01mand\u001b[39;00m (num_qubits \u001b[38;5;241m>\u001b[39m max_qubits):\n\u001b[0;32m--> 415\u001b[0m     \u001b[38;5;28;01mraise\u001b[39;00m CircuitTooWideForTarget(\n\u001b[1;32m    416\u001b[0m         \u001b[38;5;124mf\u001b[39m\u001b[38;5;124m\"\u001b[39m\u001b[38;5;124mNumber of qubits (\u001b[39m\u001b[38;5;132;01m{\u001b[39;00mnum_qubits\u001b[38;5;132;01m}\u001b[39;00m\u001b[38;5;124m) in \u001b[39m\u001b[38;5;132;01m{\u001b[39;00mcircuit\u001b[38;5;241m.\u001b[39mname\u001b[38;5;132;01m}\u001b[39;00m\u001b[38;5;124m \u001b[39m\u001b[38;5;124m\"\u001b[39m\n\u001b[1;32m    417\u001b[0m         \u001b[38;5;124mf\u001b[39m\u001b[38;5;124m\"\u001b[39m\u001b[38;5;124mis greater than maximum (\u001b[39m\u001b[38;5;132;01m{\u001b[39;00mmax_qubits\u001b[38;5;132;01m}\u001b[39;00m\u001b[38;5;124m) in the coupling_map\u001b[39m\u001b[38;5;124m\"\u001b[39m\n\u001b[1;32m    418\u001b[0m     )\n",
      "\u001b[0;31mCircuitTooWideForTarget\u001b[0m: 'Number of qubits (192) in circuit-3399 is greater than maximum (127) in the coupling_map'"
     ]
    }
   ],
   "source": [
    "circ_info_dict = {\n",
    "    'name': [],\n",
    "    'n_gates_original': [],\n",
    "    'n_gates_transpiled': [],\n",
    "    'depth_original': [],\n",
    "    'depth_transpiled': [],\n",
    "    'gate_set': [],\n",
    "    'n_qubits_original': [],\n",
    "    'n_qubits_transpiled': [],\n",
    "    'n_ancilla_original': [],\n",
    "    'n_ancilla_transpiled': []\n",
    "}\n",
    "\n",
    "for file_path in file_path_list:\n",
    "    # build the circuit from the .qasm file\n",
    "    try:\n",
    "        circ = QuantumCircuit.from_qasm_file(file_path)\n",
    "        \n",
    "        # check the number of qubits in the initial circuit\n",
    "        circ_total_qubits = circ.num_qubits + circ.num_ancillas\n",
    "        if circ_total_qubits > :\n",
    "            \n",
    "\n",
    "        # extract the name of the benchmark\n",
    "        circ_info_dict['name'].append(\n",
    "            file_path.replace(benchmark_dir_path, '', 1).replace('.qasm', '', 1)\n",
    "        )\n",
    "\n",
    "        # get the metrics from the original \"uncompiled\" circuit\n",
    "        circ_op_dict = circ.count_ops()\n",
    "        circ_info_dict['gate_set'].append('_'.join(list(circ_op_dict.keys())))\n",
    "        \n",
    "        circ_info_dict['n_qubits_original'].append(circ.num_qubits)\n",
    "        circ_info_dict['n_gates_original'].append(sum(circ_op_dict.values()))\n",
    "        circ_info_dict['depth_original'].append(circ.depth())\n",
    "        circ_info_dict['n_ancilla_original'].append(circ.num_ancillas)\n",
    "        \n",
    "        # transpile the circuit to the IBM backend (ibm_sherbrooke) and get the metrics from the\n",
    "        # transpiled circuit\n",
    "        circ_hw = transpile(circ, ibm_backend)\n",
    "        \n",
    "        circ_hw_op_dict = circ_hw.count_ops()\n",
    "        circ_info_dict['n_qubits_transpiled'].append(circ_hw.num_qubits)\n",
    "        circ_info_dict['n_gates_transpiled'].append(sum(circ_hw_op_dict.values()))\n",
    "        circ_info_dict['depth_transpiled'].append(circ_hw.depth())\n",
    "        circ_info_dict['n_ancilla_transpiled'].append(circ_hw.num_ancillas)\n",
    "    \n",
    "    except QASM2ParseError:\n",
    "        print(f\"Unable to parse {file_path} due to QASM2ParseError.\")"
   ]
  },
  {
   "cell_type": "code",
   "execution_count": 12,
   "metadata": {},
   "outputs": [
    {
     "data": {
      "text/html": [
       "<div>\n",
       "<style scoped>\n",
       "    .dataframe tbody tr th:only-of-type {\n",
       "        vertical-align: middle;\n",
       "    }\n",
       "\n",
       "    .dataframe tbody tr th {\n",
       "        vertical-align: top;\n",
       "    }\n",
       "\n",
       "    .dataframe thead th {\n",
       "        text-align: right;\n",
       "    }\n",
       "</style>\n",
       "<table border=\"1\" class=\"dataframe\">\n",
       "  <thead>\n",
       "    <tr style=\"text-align: right;\">\n",
       "      <th></th>\n",
       "      <th>name</th>\n",
       "      <th>n_gates_original</th>\n",
       "      <th>n_gates_transpiled</th>\n",
       "      <th>depth_original</th>\n",
       "      <th>depth_transpiled</th>\n",
       "      <th>gate_set</th>\n",
       "      <th>n_qubits_original</th>\n",
       "      <th>n_qubits_transpiled</th>\n",
       "      <th>n_ancilla_original</th>\n",
       "      <th>n_ancilla_transpiled</th>\n",
       "    </tr>\n",
       "  </thead>\n",
       "  <tbody>\n",
       "    <tr>\n",
       "      <th>0</th>\n",
       "      <td>adder_8</td>\n",
       "      <td>330</td>\n",
       "      <td>5724</td>\n",
       "      <td>78</td>\n",
       "      <td>1428</td>\n",
       "      <td>h_cx_ccx_x</td>\n",
       "      <td>24</td>\n",
       "      <td>127</td>\n",
       "      <td>0</td>\n",
       "      <td>0</td>\n",
       "    </tr>\n",
       "    <tr>\n",
       "      <th>1</th>\n",
       "      <td>barenco_tof_5</td>\n",
       "      <td>50</td>\n",
       "      <td>986</td>\n",
       "      <td>38</td>\n",
       "      <td>548</td>\n",
       "      <td>h_ccx</td>\n",
       "      <td>9</td>\n",
       "      <td>127</td>\n",
       "      <td>0</td>\n",
       "      <td>0</td>\n",
       "    </tr>\n",
       "  </tbody>\n",
       "</table>\n",
       "</div>"
      ],
      "text/plain": [
       "            name  n_gates_original  n_gates_transpiled  depth_original  \\\n",
       "0        adder_8               330                5724              78   \n",
       "1  barenco_tof_5                50                 986              38   \n",
       "\n",
       "   depth_transpiled    gate_set  n_qubits_original  n_qubits_transpiled  \\\n",
       "0              1428  h_cx_ccx_x                 24                  127   \n",
       "1               548       h_ccx                  9                  127   \n",
       "\n",
       "   n_ancilla_original  n_ancilla_transpiled  \n",
       "0                   0                     0  \n",
       "1                   0                     0  "
      ]
     },
     "execution_count": 12,
     "metadata": {},
     "output_type": "execute_result"
    }
   ],
   "source": [
    "import pandas as pd\n",
    "pd.DataFrame.from_dict(circ_info_dict)"
   ]
  }
 ],
 "metadata": {
  "kernelspec": {
   "display_name": "cpsc-513",
   "language": "python",
   "name": "python3"
  },
  "language_info": {
   "codemirror_mode": {
    "name": "ipython",
    "version": 3
   },
   "file_extension": ".py",
   "mimetype": "text/x-python",
   "name": "python",
   "nbconvert_exporter": "python",
   "pygments_lexer": "ipython3",
   "version": "3.13.0"
  }
 },
 "nbformat": 4,
 "nbformat_minor": 2
}
