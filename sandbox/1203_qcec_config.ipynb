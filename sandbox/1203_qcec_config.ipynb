{
 "cells": [
  {
   "cell_type": "markdown",
   "metadata": {},
   "source": [
    "December 03, 2024\n",
    "\n",
    "Goal: Figure out how to properly configure `qcec.verify` to setup the benchmark experiments. Let's first load up a large, complex circuit from T-opt benchmarks so that the resulting changes are observable."
   ]
  },
  {
   "cell_type": "code",
   "execution_count": null,
   "metadata": {},
   "outputs": [],
   "source": [
    "cd .."
   ]
  },
  {
   "cell_type": "markdown",
   "metadata": {},
   "source": [
    "this time, let's consider the `mod_adder_1024.qasm` circuit:"
   ]
  },
  {
   "cell_type": "code",
   "execution_count": null,
   "metadata": {},
   "outputs": [],
   "source": [
    "mod_adder_1024_path = \"../feynman/benchmarks/qasm/mod_adder_1024.qasm\"\n",
    "\n",
    "from qiskit import QuantumCircuit\n",
    "mod_adder_circ = QuantumCircuit.from_qasm_file(mod_adder_1024_path)\n",
    "mod_adder_circ.draw()"
   ]
  },
  {
   "cell_type": "markdown",
   "metadata": {},
   "source": [
    "**Important note:** We observe that unlike the `qft_4` circuit which had all gates in `Clifford + T`, the adder circuit is represented using `{Toffoli, H}`\n",
    "\n",
    "Now, let's initialize and setup a `Configuration` object:"
   ]
  },
  {
   "cell_type": "code",
   "execution_count": null,
   "metadata": {},
   "outputs": [],
   "source": [
    "from mqt import qcec\n",
    "from mqt.qcec import Configuration\n",
    "from mqt.qcec.configuration import augment_config_from_kwargs\n",
    "config = Configuration()"
   ]
  },
  {
   "cell_type": "code",
   "execution_count": null,
   "metadata": {},
   "outputs": [],
   "source": [
    "config_dict = {\n",
    "    # application\n",
    "    \"alternating_scheme\": \"proportional\",\n",
    "    \"simulation_scheme\": \"proportional\",\n",
    "    \n",
    "    # execution\n",
    "    \"run_zx_checker\": False,\n",
    "    \"timeout\": 60.,\n",
    "    \n",
    "    # functionality\n",
    "    \n",
    "    # optimizations\n",
    "    \"elide_permutations\": False,\n",
    "    \"fuse_single_qubit_gates\": False,\n",
    "    \"reconstruct_swaps\": False,\n",
    "    \"reorder_operations\": False,\n",
    "    \"transform_dynamic_circuit\": False,\n",
    "    \n",
    "    # simulation\n",
    "}"
   ]
  },
  {
   "cell_type": "code",
   "execution_count": null,
   "metadata": {},
   "outputs": [],
   "source": [
    "# update the configuration with the dictionary\n",
    "augment_config_from_kwargs(config, config_dict)"
   ]
  },
  {
   "cell_type": "markdown",
   "metadata": {},
   "source": [
    "Now, let's attempt to transpile the above circuit and perform equivalence checking"
   ]
  },
  {
   "cell_type": "code",
   "execution_count": null,
   "metadata": {},
   "outputs": [],
   "source": [
    "from keys import IBMQ_API\n",
    "from qiskit import transpile\n",
    "from qiskit_ibm_runtime import QiskitRuntimeService\n",
    "\n",
    "service = QiskitRuntimeService(channel=\"ibm_quantum\", token=IBMQ_API, instance=\"ibm-q/open/main\")\n",
    "ibm_backend = service.backend(\"ibm_sherbrooke\")\n",
    "mod_adder_circ_hw = transpile(mod_adder_circ, ibm_backend)"
   ]
  },
  {
   "cell_type": "code",
   "execution_count": null,
   "metadata": {},
   "outputs": [],
   "source": [
    "mod_adder_circ_hw.draw()"
   ]
  },
  {
   "cell_type": "markdown",
   "metadata": {},
   "source": [
    "Let's add measurements to both the original and the transpiled circuits:"
   ]
  },
  {
   "cell_type": "code",
   "execution_count": null,
   "metadata": {},
   "outputs": [],
   "source": [
    "mod_adder_circ.measure_all()\n",
    "mod_adder_circ_hw.measure_all()"
   ]
  },
  {
   "cell_type": "markdown",
   "metadata": {},
   "source": [
    "And now let's verify the equivalence:"
   ]
  },
  {
   "cell_type": "code",
   "execution_count": null,
   "metadata": {},
   "outputs": [],
   "source": [
    "qcec.verify(mod_adder_circ, mod_adder_circ_hw, config)"
   ]
  }
 ],
 "metadata": {
  "kernelspec": {
   "display_name": "cpsc-513",
   "language": "python",
   "name": "python3"
  },
  "language_info": {
   "codemirror_mode": {
    "name": "ipython",
    "version": 3
   },
   "file_extension": ".py",
   "mimetype": "text/x-python",
   "name": "python",
   "nbconvert_exporter": "python",
   "pygments_lexer": "ipython3",
   "version": "3.13.0"
  }
 },
 "nbformat": 4,
 "nbformat_minor": 2
}
