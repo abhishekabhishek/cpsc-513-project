{
 "cells": [
  {
   "cell_type": "markdown",
   "metadata": {},
   "source": [
    "December 11, 2024\n",
    "\n",
    "Goal: Since the internal timeouts from `qcec` are broken, figure out how to use external timeouts to interrupt the verification code.\n",
    "\n",
    "Idea: Set a really high timeout in `qcec` config and use external timeout from multiprocessing."
   ]
  },
  {
   "cell_type": "code",
   "execution_count": null,
   "metadata": {},
   "outputs": [],
   "source": [
    "import time\n",
    "from itertools "
   ]
  }
 ],
 "metadata": {
  "kernelspec": {
   "display_name": "cpsc-513",
   "language": "python",
   "name": "python3"
  },
  "language_info": {
   "name": "python",
   "version": "3.13.0"
  }
 },
 "nbformat": 4,
 "nbformat_minor": 2
}
